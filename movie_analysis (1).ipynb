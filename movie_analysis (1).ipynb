{
  "nbformat": 4,
  "nbformat_minor": 0,
  "metadata": {
    "colab": {
      "provenance": []
    },
    "kernelspec": {
      "name": "python3",
      "display_name": "Python 3"
    },
    "language_info": {
      "name": "python"
    }
  },
  "cells": [
    {
      "cell_type": "code",
      "execution_count": null,
      "metadata": {
        "id": "39yJJYGuEtLW"
      },
      "outputs": [],
      "source": [
        "# Importing the relevant libraries\n",
        "\n",
        "import matplotlib.pyplot as plt\n",
        "import pandas as pd\n",
        "import numpy as np\n",
        "import math\n",
        "import scipy.stats as stats\n",
        "from scipy.stats import ttest_ind, ttest_1samp, t, norm\n",
        "import statsmodels.stats.api as sms\n",
        "import seaborn as sns\n",
        "import matplotlib\n",
        "from matplotlib import pyplot as plt"
      ]
    },
    {
      "cell_type": "code",
      "source": [
        "# Reading the dataset into our environment\n",
        "data = pd.read_csv(\"/content/Final_IMDB_Movies.csv\")\n",
        "data"
      ],
      "metadata": {
        "colab": {
          "base_uri": "https://localhost:8080/",
          "height": 652
        },
        "id": "r45l109HFTii",
        "outputId": "fc00ec14-65f0-402a-fc95-e58e54ee7e6f"
      },
      "execution_count": null,
      "outputs": [
        {
          "output_type": "execute_result",
          "data": {
            "text/plain": [
              "                                        movie_imdb_link  color  \\\n",
              "0     http://www.imdb.com/title/tt0499549/?ref_=fn_t...  Color   \n",
              "1     http://www.imdb.com/title/tt0449088/?ref_=fn_t...  Color   \n",
              "2     http://www.imdb.com/title/tt2379713/?ref_=fn_t...  Color   \n",
              "3     http://www.imdb.com/title/tt1345836/?ref_=fn_t...  Color   \n",
              "4     http://www.imdb.com/title/tt0401729/?ref_=fn_t...  Color   \n",
              "...                                                 ...    ...   \n",
              "3656  http://www.imdb.com/title/tt0388838/?ref_=fn_t...  Color   \n",
              "3657  http://www.imdb.com/title/tt0255094/?ref_=fn_t...  Color   \n",
              "3658  http://www.imdb.com/title/tt0390384/?ref_=fn_t...  Color   \n",
              "3659  http://www.imdb.com/title/tt0104815/?ref_=fn_t...  Color   \n",
              "3660  http://www.imdb.com/title/tt0378407/?ref_=fn_t...  Color   \n",
              "\n",
              "                                    movie_title language  title_year  \\\n",
              "0                                       Avatar   English        2009   \n",
              "1     Pirates of the Caribbean: At World's End   English        2007   \n",
              "2                                      Spectre   English        2015   \n",
              "3                        The Dark Knight Rises   English        2012   \n",
              "4                                  John Carter   English        2012   \n",
              "...                                         ...      ...         ...   \n",
              "3656                                     Clean    French        2004   \n",
              "3657                                The Circle   Persian        2000   \n",
              "3658                                    Primer   English        2004   \n",
              "3659                               El Mariachi   Spanish        1992   \n",
              "3660                         My Date with Drew   English        2004   \n",
              "\n",
              "      duration      director_name             actor_1_name       actor_2_name  \\\n",
              "0          178      James Cameron              CCH Pounder   Joel David Moore   \n",
              "1          169     Gore Verbinski              Johnny Depp      Orlando Bloom   \n",
              "2          148         Sam Mendes          Christoph Waltz       Rory Kinnear   \n",
              "3          164  Christopher Nolan                Tom Hardy     Christian Bale   \n",
              "4          132     Andrew Stanton             Daryl Sabara    Samantha Morton   \n",
              "...        ...                ...                      ...                ...   \n",
              "3656       110    Olivier Assayas            Maggie Cheung     Béatrice Dalle   \n",
              "3657        90       Jafar Panahi  Fereshteh Sadre Orafaiy  Nargess Mamizadeh   \n",
              "3658        77      Shane Carruth            Shane Carruth     David Sullivan   \n",
              "3659        81   Robert Rodriguez          Carlos Gallardo    Peter Marquardt   \n",
              "3660        90           Jon Gunn              John August   Brian Herzlinger   \n",
              "\n",
              "              actor_3_name  ... num_critic_for_reviews num_user_for_reviews  \\\n",
              "0                Wes Studi  ...                    723                 3054   \n",
              "1           Jack Davenport  ...                    302                 1238   \n",
              "2         Stephanie Sigman  ...                    602                  994   \n",
              "3     Joseph Gordon-Levitt  ...                    813                 2701   \n",
              "4             Polly Walker  ...                    462                  738   \n",
              "...                    ...  ...                    ...                  ...   \n",
              "3656          Don McKellar  ...                     81                   39   \n",
              "3657      Mojgan Faramarzi  ...                     64                   26   \n",
              "3658          Casey Gooden  ...                    143                  371   \n",
              "3659        Consuelo Gómez  ...                     56                  130   \n",
              "3660              Jon Gunn  ...                     43                   84   \n",
              "\n",
              "      num_voted_users  director_facebook_likes actor_1_facebook_likes  \\\n",
              "0              886204                        0                   1000   \n",
              "1              471220                      563                  40000   \n",
              "2              275868                        0                  11000   \n",
              "3             1144337                    22000                  27000   \n",
              "4              212204                      475                    640   \n",
              "...               ...                      ...                    ...   \n",
              "3656             3924                      107                    576   \n",
              "3657             4555                      397                      5   \n",
              "3658            72639                      291                    291   \n",
              "3659            52055                        0                    121   \n",
              "3660             4285                       16                     86   \n",
              "\n",
              "     actor_2_facebook_likes  actor_3_facebook_likes  \\\n",
              "0                       936                     855   \n",
              "1                      5000                    1000   \n",
              "2                       393                     161   \n",
              "3                     23000                   23000   \n",
              "4                       632                     530   \n",
              "...                     ...                     ...   \n",
              "3656                    133                      45   \n",
              "3657                      0                       0   \n",
              "3658                     45                       8   \n",
              "3659                     20                       6   \n",
              "3660                     23                      16   \n",
              "\n",
              "      cast_total_facebook_likes  movie_facebook_likes  facenumber_in_poster  \n",
              "0                          4834                 33000                     0  \n",
              "1                         48350                     0                     0  \n",
              "2                         11700                 85000                     1  \n",
              "3                        106759                164000                     0  \n",
              "4                          1873                 24000                     1  \n",
              "...                         ...                   ...                   ...  \n",
              "3656                        776                   171                     1  \n",
              "3657                          5                   697                     0  \n",
              "3658                        368                 19000                     0  \n",
              "3659                        147                     0                     0  \n",
              "3660                        163                   456                     0  \n",
              "\n",
              "[3661 rows x 28 columns]"
            ],
            "text/html": [
              "\n",
              "  <div id=\"df-2f2074f8-2675-4c72-b6af-d39cde511b21\" class=\"colab-df-container\">\n",
              "    <div>\n",
              "<style scoped>\n",
              "    .dataframe tbody tr th:only-of-type {\n",
              "        vertical-align: middle;\n",
              "    }\n",
              "\n",
              "    .dataframe tbody tr th {\n",
              "        vertical-align: top;\n",
              "    }\n",
              "\n",
              "    .dataframe thead th {\n",
              "        text-align: right;\n",
              "    }\n",
              "</style>\n",
              "<table border=\"1\" class=\"dataframe\">\n",
              "  <thead>\n",
              "    <tr style=\"text-align: right;\">\n",
              "      <th></th>\n",
              "      <th>movie_imdb_link</th>\n",
              "      <th>color</th>\n",
              "      <th>movie_title</th>\n",
              "      <th>language</th>\n",
              "      <th>title_year</th>\n",
              "      <th>duration</th>\n",
              "      <th>director_name</th>\n",
              "      <th>actor_1_name</th>\n",
              "      <th>actor_2_name</th>\n",
              "      <th>actor_3_name</th>\n",
              "      <th>...</th>\n",
              "      <th>num_critic_for_reviews</th>\n",
              "      <th>num_user_for_reviews</th>\n",
              "      <th>num_voted_users</th>\n",
              "      <th>director_facebook_likes</th>\n",
              "      <th>actor_1_facebook_likes</th>\n",
              "      <th>actor_2_facebook_likes</th>\n",
              "      <th>actor_3_facebook_likes</th>\n",
              "      <th>cast_total_facebook_likes</th>\n",
              "      <th>movie_facebook_likes</th>\n",
              "      <th>facenumber_in_poster</th>\n",
              "    </tr>\n",
              "  </thead>\n",
              "  <tbody>\n",
              "    <tr>\n",
              "      <th>0</th>\n",
              "      <td>http://www.imdb.com/title/tt0499549/?ref_=fn_t...</td>\n",
              "      <td>Color</td>\n",
              "      <td>Avatar</td>\n",
              "      <td>English</td>\n",
              "      <td>2009</td>\n",
              "      <td>178</td>\n",
              "      <td>James Cameron</td>\n",
              "      <td>CCH Pounder</td>\n",
              "      <td>Joel David Moore</td>\n",
              "      <td>Wes Studi</td>\n",
              "      <td>...</td>\n",
              "      <td>723</td>\n",
              "      <td>3054</td>\n",
              "      <td>886204</td>\n",
              "      <td>0</td>\n",
              "      <td>1000</td>\n",
              "      <td>936</td>\n",
              "      <td>855</td>\n",
              "      <td>4834</td>\n",
              "      <td>33000</td>\n",
              "      <td>0</td>\n",
              "    </tr>\n",
              "    <tr>\n",
              "      <th>1</th>\n",
              "      <td>http://www.imdb.com/title/tt0449088/?ref_=fn_t...</td>\n",
              "      <td>Color</td>\n",
              "      <td>Pirates of the Caribbean: At World's End</td>\n",
              "      <td>English</td>\n",
              "      <td>2007</td>\n",
              "      <td>169</td>\n",
              "      <td>Gore Verbinski</td>\n",
              "      <td>Johnny Depp</td>\n",
              "      <td>Orlando Bloom</td>\n",
              "      <td>Jack Davenport</td>\n",
              "      <td>...</td>\n",
              "      <td>302</td>\n",
              "      <td>1238</td>\n",
              "      <td>471220</td>\n",
              "      <td>563</td>\n",
              "      <td>40000</td>\n",
              "      <td>5000</td>\n",
              "      <td>1000</td>\n",
              "      <td>48350</td>\n",
              "      <td>0</td>\n",
              "      <td>0</td>\n",
              "    </tr>\n",
              "    <tr>\n",
              "      <th>2</th>\n",
              "      <td>http://www.imdb.com/title/tt2379713/?ref_=fn_t...</td>\n",
              "      <td>Color</td>\n",
              "      <td>Spectre</td>\n",
              "      <td>English</td>\n",
              "      <td>2015</td>\n",
              "      <td>148</td>\n",
              "      <td>Sam Mendes</td>\n",
              "      <td>Christoph Waltz</td>\n",
              "      <td>Rory Kinnear</td>\n",
              "      <td>Stephanie Sigman</td>\n",
              "      <td>...</td>\n",
              "      <td>602</td>\n",
              "      <td>994</td>\n",
              "      <td>275868</td>\n",
              "      <td>0</td>\n",
              "      <td>11000</td>\n",
              "      <td>393</td>\n",
              "      <td>161</td>\n",
              "      <td>11700</td>\n",
              "      <td>85000</td>\n",
              "      <td>1</td>\n",
              "    </tr>\n",
              "    <tr>\n",
              "      <th>3</th>\n",
              "      <td>http://www.imdb.com/title/tt1345836/?ref_=fn_t...</td>\n",
              "      <td>Color</td>\n",
              "      <td>The Dark Knight Rises</td>\n",
              "      <td>English</td>\n",
              "      <td>2012</td>\n",
              "      <td>164</td>\n",
              "      <td>Christopher Nolan</td>\n",
              "      <td>Tom Hardy</td>\n",
              "      <td>Christian Bale</td>\n",
              "      <td>Joseph Gordon-Levitt</td>\n",
              "      <td>...</td>\n",
              "      <td>813</td>\n",
              "      <td>2701</td>\n",
              "      <td>1144337</td>\n",
              "      <td>22000</td>\n",
              "      <td>27000</td>\n",
              "      <td>23000</td>\n",
              "      <td>23000</td>\n",
              "      <td>106759</td>\n",
              "      <td>164000</td>\n",
              "      <td>0</td>\n",
              "    </tr>\n",
              "    <tr>\n",
              "      <th>4</th>\n",
              "      <td>http://www.imdb.com/title/tt0401729/?ref_=fn_t...</td>\n",
              "      <td>Color</td>\n",
              "      <td>John Carter</td>\n",
              "      <td>English</td>\n",
              "      <td>2012</td>\n",
              "      <td>132</td>\n",
              "      <td>Andrew Stanton</td>\n",
              "      <td>Daryl Sabara</td>\n",
              "      <td>Samantha Morton</td>\n",
              "      <td>Polly Walker</td>\n",
              "      <td>...</td>\n",
              "      <td>462</td>\n",
              "      <td>738</td>\n",
              "      <td>212204</td>\n",
              "      <td>475</td>\n",
              "      <td>640</td>\n",
              "      <td>632</td>\n",
              "      <td>530</td>\n",
              "      <td>1873</td>\n",
              "      <td>24000</td>\n",
              "      <td>1</td>\n",
              "    </tr>\n",
              "    <tr>\n",
              "      <th>...</th>\n",
              "      <td>...</td>\n",
              "      <td>...</td>\n",
              "      <td>...</td>\n",
              "      <td>...</td>\n",
              "      <td>...</td>\n",
              "      <td>...</td>\n",
              "      <td>...</td>\n",
              "      <td>...</td>\n",
              "      <td>...</td>\n",
              "      <td>...</td>\n",
              "      <td>...</td>\n",
              "      <td>...</td>\n",
              "      <td>...</td>\n",
              "      <td>...</td>\n",
              "      <td>...</td>\n",
              "      <td>...</td>\n",
              "      <td>...</td>\n",
              "      <td>...</td>\n",
              "      <td>...</td>\n",
              "      <td>...</td>\n",
              "      <td>...</td>\n",
              "    </tr>\n",
              "    <tr>\n",
              "      <th>3656</th>\n",
              "      <td>http://www.imdb.com/title/tt0388838/?ref_=fn_t...</td>\n",
              "      <td>Color</td>\n",
              "      <td>Clean</td>\n",
              "      <td>French</td>\n",
              "      <td>2004</td>\n",
              "      <td>110</td>\n",
              "      <td>Olivier Assayas</td>\n",
              "      <td>Maggie Cheung</td>\n",
              "      <td>Béatrice Dalle</td>\n",
              "      <td>Don McKellar</td>\n",
              "      <td>...</td>\n",
              "      <td>81</td>\n",
              "      <td>39</td>\n",
              "      <td>3924</td>\n",
              "      <td>107</td>\n",
              "      <td>576</td>\n",
              "      <td>133</td>\n",
              "      <td>45</td>\n",
              "      <td>776</td>\n",
              "      <td>171</td>\n",
              "      <td>1</td>\n",
              "    </tr>\n",
              "    <tr>\n",
              "      <th>3657</th>\n",
              "      <td>http://www.imdb.com/title/tt0255094/?ref_=fn_t...</td>\n",
              "      <td>Color</td>\n",
              "      <td>The Circle</td>\n",
              "      <td>Persian</td>\n",
              "      <td>2000</td>\n",
              "      <td>90</td>\n",
              "      <td>Jafar Panahi</td>\n",
              "      <td>Fereshteh Sadre Orafaiy</td>\n",
              "      <td>Nargess Mamizadeh</td>\n",
              "      <td>Mojgan Faramarzi</td>\n",
              "      <td>...</td>\n",
              "      <td>64</td>\n",
              "      <td>26</td>\n",
              "      <td>4555</td>\n",
              "      <td>397</td>\n",
              "      <td>5</td>\n",
              "      <td>0</td>\n",
              "      <td>0</td>\n",
              "      <td>5</td>\n",
              "      <td>697</td>\n",
              "      <td>0</td>\n",
              "    </tr>\n",
              "    <tr>\n",
              "      <th>3658</th>\n",
              "      <td>http://www.imdb.com/title/tt0390384/?ref_=fn_t...</td>\n",
              "      <td>Color</td>\n",
              "      <td>Primer</td>\n",
              "      <td>English</td>\n",
              "      <td>2004</td>\n",
              "      <td>77</td>\n",
              "      <td>Shane Carruth</td>\n",
              "      <td>Shane Carruth</td>\n",
              "      <td>David Sullivan</td>\n",
              "      <td>Casey Gooden</td>\n",
              "      <td>...</td>\n",
              "      <td>143</td>\n",
              "      <td>371</td>\n",
              "      <td>72639</td>\n",
              "      <td>291</td>\n",
              "      <td>291</td>\n",
              "      <td>45</td>\n",
              "      <td>8</td>\n",
              "      <td>368</td>\n",
              "      <td>19000</td>\n",
              "      <td>0</td>\n",
              "    </tr>\n",
              "    <tr>\n",
              "      <th>3659</th>\n",
              "      <td>http://www.imdb.com/title/tt0104815/?ref_=fn_t...</td>\n",
              "      <td>Color</td>\n",
              "      <td>El Mariachi</td>\n",
              "      <td>Spanish</td>\n",
              "      <td>1992</td>\n",
              "      <td>81</td>\n",
              "      <td>Robert Rodriguez</td>\n",
              "      <td>Carlos Gallardo</td>\n",
              "      <td>Peter Marquardt</td>\n",
              "      <td>Consuelo Gómez</td>\n",
              "      <td>...</td>\n",
              "      <td>56</td>\n",
              "      <td>130</td>\n",
              "      <td>52055</td>\n",
              "      <td>0</td>\n",
              "      <td>121</td>\n",
              "      <td>20</td>\n",
              "      <td>6</td>\n",
              "      <td>147</td>\n",
              "      <td>0</td>\n",
              "      <td>0</td>\n",
              "    </tr>\n",
              "    <tr>\n",
              "      <th>3660</th>\n",
              "      <td>http://www.imdb.com/title/tt0378407/?ref_=fn_t...</td>\n",
              "      <td>Color</td>\n",
              "      <td>My Date with Drew</td>\n",
              "      <td>English</td>\n",
              "      <td>2004</td>\n",
              "      <td>90</td>\n",
              "      <td>Jon Gunn</td>\n",
              "      <td>John August</td>\n",
              "      <td>Brian Herzlinger</td>\n",
              "      <td>Jon Gunn</td>\n",
              "      <td>...</td>\n",
              "      <td>43</td>\n",
              "      <td>84</td>\n",
              "      <td>4285</td>\n",
              "      <td>16</td>\n",
              "      <td>86</td>\n",
              "      <td>23</td>\n",
              "      <td>16</td>\n",
              "      <td>163</td>\n",
              "      <td>456</td>\n",
              "      <td>0</td>\n",
              "    </tr>\n",
              "  </tbody>\n",
              "</table>\n",
              "<p>3661 rows × 28 columns</p>\n",
              "</div>\n",
              "    <div class=\"colab-df-buttons\">\n",
              "\n",
              "  <div class=\"colab-df-container\">\n",
              "    <button class=\"colab-df-convert\" onclick=\"convertToInteractive('df-2f2074f8-2675-4c72-b6af-d39cde511b21')\"\n",
              "            title=\"Convert this dataframe to an interactive table.\"\n",
              "            style=\"display:none;\">\n",
              "\n",
              "  <svg xmlns=\"http://www.w3.org/2000/svg\" height=\"24px\" viewBox=\"0 -960 960 960\">\n",
              "    <path d=\"M120-120v-720h720v720H120Zm60-500h600v-160H180v160Zm220 220h160v-160H400v160Zm0 220h160v-160H400v160ZM180-400h160v-160H180v160Zm440 0h160v-160H620v160ZM180-180h160v-160H180v160Zm440 0h160v-160H620v160Z\"/>\n",
              "  </svg>\n",
              "    </button>\n",
              "\n",
              "  <style>\n",
              "    .colab-df-container {\n",
              "      display:flex;\n",
              "      gap: 12px;\n",
              "    }\n",
              "\n",
              "    .colab-df-convert {\n",
              "      background-color: #E8F0FE;\n",
              "      border: none;\n",
              "      border-radius: 50%;\n",
              "      cursor: pointer;\n",
              "      display: none;\n",
              "      fill: #1967D2;\n",
              "      height: 32px;\n",
              "      padding: 0 0 0 0;\n",
              "      width: 32px;\n",
              "    }\n",
              "\n",
              "    .colab-df-convert:hover {\n",
              "      background-color: #E2EBFA;\n",
              "      box-shadow: 0px 1px 2px rgba(60, 64, 67, 0.3), 0px 1px 3px 1px rgba(60, 64, 67, 0.15);\n",
              "      fill: #174EA6;\n",
              "    }\n",
              "\n",
              "    .colab-df-buttons div {\n",
              "      margin-bottom: 4px;\n",
              "    }\n",
              "\n",
              "    [theme=dark] .colab-df-convert {\n",
              "      background-color: #3B4455;\n",
              "      fill: #D2E3FC;\n",
              "    }\n",
              "\n",
              "    [theme=dark] .colab-df-convert:hover {\n",
              "      background-color: #434B5C;\n",
              "      box-shadow: 0px 1px 3px 1px rgba(0, 0, 0, 0.15);\n",
              "      filter: drop-shadow(0px 1px 2px rgba(0, 0, 0, 0.3));\n",
              "      fill: #FFFFFF;\n",
              "    }\n",
              "  </style>\n",
              "\n",
              "    <script>\n",
              "      const buttonEl =\n",
              "        document.querySelector('#df-2f2074f8-2675-4c72-b6af-d39cde511b21 button.colab-df-convert');\n",
              "      buttonEl.style.display =\n",
              "        google.colab.kernel.accessAllowed ? 'block' : 'none';\n",
              "\n",
              "      async function convertToInteractive(key) {\n",
              "        const element = document.querySelector('#df-2f2074f8-2675-4c72-b6af-d39cde511b21');\n",
              "        const dataTable =\n",
              "          await google.colab.kernel.invokeFunction('convertToInteractive',\n",
              "                                                    [key], {});\n",
              "        if (!dataTable) return;\n",
              "\n",
              "        const docLinkHtml = 'Like what you see? Visit the ' +\n",
              "          '<a target=\"_blank\" href=https://colab.research.google.com/notebooks/data_table.ipynb>data table notebook</a>'\n",
              "          + ' to learn more about interactive tables.';\n",
              "        element.innerHTML = '';\n",
              "        dataTable['output_type'] = 'display_data';\n",
              "        await google.colab.output.renderOutput(dataTable, element);\n",
              "        const docLink = document.createElement('div');\n",
              "        docLink.innerHTML = docLinkHtml;\n",
              "        element.appendChild(docLink);\n",
              "      }\n",
              "    </script>\n",
              "  </div>\n",
              "\n",
              "\n",
              "<div id=\"df-ed42245e-9edb-4e9f-8b4d-a5d05795963d\">\n",
              "  <button class=\"colab-df-quickchart\" onclick=\"quickchart('df-ed42245e-9edb-4e9f-8b4d-a5d05795963d')\"\n",
              "            title=\"Suggest charts\"\n",
              "            style=\"display:none;\">\n",
              "\n",
              "<svg xmlns=\"http://www.w3.org/2000/svg\" height=\"24px\"viewBox=\"0 0 24 24\"\n",
              "     width=\"24px\">\n",
              "    <g>\n",
              "        <path d=\"M19 3H5c-1.1 0-2 .9-2 2v14c0 1.1.9 2 2 2h14c1.1 0 2-.9 2-2V5c0-1.1-.9-2-2-2zM9 17H7v-7h2v7zm4 0h-2V7h2v10zm4 0h-2v-4h2v4z\"/>\n",
              "    </g>\n",
              "</svg>\n",
              "  </button>\n",
              "\n",
              "<style>\n",
              "  .colab-df-quickchart {\n",
              "      --bg-color: #E8F0FE;\n",
              "      --fill-color: #1967D2;\n",
              "      --hover-bg-color: #E2EBFA;\n",
              "      --hover-fill-color: #174EA6;\n",
              "      --disabled-fill-color: #AAA;\n",
              "      --disabled-bg-color: #DDD;\n",
              "  }\n",
              "\n",
              "  [theme=dark] .colab-df-quickchart {\n",
              "      --bg-color: #3B4455;\n",
              "      --fill-color: #D2E3FC;\n",
              "      --hover-bg-color: #434B5C;\n",
              "      --hover-fill-color: #FFFFFF;\n",
              "      --disabled-bg-color: #3B4455;\n",
              "      --disabled-fill-color: #666;\n",
              "  }\n",
              "\n",
              "  .colab-df-quickchart {\n",
              "    background-color: var(--bg-color);\n",
              "    border: none;\n",
              "    border-radius: 50%;\n",
              "    cursor: pointer;\n",
              "    display: none;\n",
              "    fill: var(--fill-color);\n",
              "    height: 32px;\n",
              "    padding: 0;\n",
              "    width: 32px;\n",
              "  }\n",
              "\n",
              "  .colab-df-quickchart:hover {\n",
              "    background-color: var(--hover-bg-color);\n",
              "    box-shadow: 0 1px 2px rgba(60, 64, 67, 0.3), 0 1px 3px 1px rgba(60, 64, 67, 0.15);\n",
              "    fill: var(--button-hover-fill-color);\n",
              "  }\n",
              "\n",
              "  .colab-df-quickchart-complete:disabled,\n",
              "  .colab-df-quickchart-complete:disabled:hover {\n",
              "    background-color: var(--disabled-bg-color);\n",
              "    fill: var(--disabled-fill-color);\n",
              "    box-shadow: none;\n",
              "  }\n",
              "\n",
              "  .colab-df-spinner {\n",
              "    border: 2px solid var(--fill-color);\n",
              "    border-color: transparent;\n",
              "    border-bottom-color: var(--fill-color);\n",
              "    animation:\n",
              "      spin 1s steps(1) infinite;\n",
              "  }\n",
              "\n",
              "  @keyframes spin {\n",
              "    0% {\n",
              "      border-color: transparent;\n",
              "      border-bottom-color: var(--fill-color);\n",
              "      border-left-color: var(--fill-color);\n",
              "    }\n",
              "    20% {\n",
              "      border-color: transparent;\n",
              "      border-left-color: var(--fill-color);\n",
              "      border-top-color: var(--fill-color);\n",
              "    }\n",
              "    30% {\n",
              "      border-color: transparent;\n",
              "      border-left-color: var(--fill-color);\n",
              "      border-top-color: var(--fill-color);\n",
              "      border-right-color: var(--fill-color);\n",
              "    }\n",
              "    40% {\n",
              "      border-color: transparent;\n",
              "      border-right-color: var(--fill-color);\n",
              "      border-top-color: var(--fill-color);\n",
              "    }\n",
              "    60% {\n",
              "      border-color: transparent;\n",
              "      border-right-color: var(--fill-color);\n",
              "    }\n",
              "    80% {\n",
              "      border-color: transparent;\n",
              "      border-right-color: var(--fill-color);\n",
              "      border-bottom-color: var(--fill-color);\n",
              "    }\n",
              "    90% {\n",
              "      border-color: transparent;\n",
              "      border-bottom-color: var(--fill-color);\n",
              "    }\n",
              "  }\n",
              "</style>\n",
              "\n",
              "  <script>\n",
              "    async function quickchart(key) {\n",
              "      const quickchartButtonEl =\n",
              "        document.querySelector('#' + key + ' button');\n",
              "      quickchartButtonEl.disabled = true;  // To prevent multiple clicks.\n",
              "      quickchartButtonEl.classList.add('colab-df-spinner');\n",
              "      try {\n",
              "        const charts = await google.colab.kernel.invokeFunction(\n",
              "            'suggestCharts', [key], {});\n",
              "      } catch (error) {\n",
              "        console.error('Error during call to suggestCharts:', error);\n",
              "      }\n",
              "      quickchartButtonEl.classList.remove('colab-df-spinner');\n",
              "      quickchartButtonEl.classList.add('colab-df-quickchart-complete');\n",
              "    }\n",
              "    (() => {\n",
              "      let quickchartButtonEl =\n",
              "        document.querySelector('#df-ed42245e-9edb-4e9f-8b4d-a5d05795963d button');\n",
              "      quickchartButtonEl.style.display =\n",
              "        google.colab.kernel.accessAllowed ? 'block' : 'none';\n",
              "    })();\n",
              "  </script>\n",
              "</div>\n",
              "\n",
              "  <div id=\"id_8beab69f-d8cf-43fe-8d1c-b98f1ddfe010\">\n",
              "    <style>\n",
              "      .colab-df-generate {\n",
              "        background-color: #E8F0FE;\n",
              "        border: none;\n",
              "        border-radius: 50%;\n",
              "        cursor: pointer;\n",
              "        display: none;\n",
              "        fill: #1967D2;\n",
              "        height: 32px;\n",
              "        padding: 0 0 0 0;\n",
              "        width: 32px;\n",
              "      }\n",
              "\n",
              "      .colab-df-generate:hover {\n",
              "        background-color: #E2EBFA;\n",
              "        box-shadow: 0px 1px 2px rgba(60, 64, 67, 0.3), 0px 1px 3px 1px rgba(60, 64, 67, 0.15);\n",
              "        fill: #174EA6;\n",
              "      }\n",
              "\n",
              "      [theme=dark] .colab-df-generate {\n",
              "        background-color: #3B4455;\n",
              "        fill: #D2E3FC;\n",
              "      }\n",
              "\n",
              "      [theme=dark] .colab-df-generate:hover {\n",
              "        background-color: #434B5C;\n",
              "        box-shadow: 0px 1px 3px 1px rgba(0, 0, 0, 0.15);\n",
              "        filter: drop-shadow(0px 1px 2px rgba(0, 0, 0, 0.3));\n",
              "        fill: #FFFFFF;\n",
              "      }\n",
              "    </style>\n",
              "    <button class=\"colab-df-generate\" onclick=\"generateWithVariable('data')\"\n",
              "            title=\"Generate code using this dataframe.\"\n",
              "            style=\"display:none;\">\n",
              "\n",
              "  <svg xmlns=\"http://www.w3.org/2000/svg\" height=\"24px\"viewBox=\"0 0 24 24\"\n",
              "       width=\"24px\">\n",
              "    <path d=\"M7,19H8.4L18.45,9,17,7.55,7,17.6ZM5,21V16.75L18.45,3.32a2,2,0,0,1,2.83,0l1.4,1.43a1.91,1.91,0,0,1,.58,1.4,1.91,1.91,0,0,1-.58,1.4L9.25,21ZM18.45,9,17,7.55Zm-12,3A5.31,5.31,0,0,0,4.9,8.1,5.31,5.31,0,0,0,1,6.5,5.31,5.31,0,0,0,4.9,4.9,5.31,5.31,0,0,0,6.5,1,5.31,5.31,0,0,0,8.1,4.9,5.31,5.31,0,0,0,12,6.5,5.46,5.46,0,0,0,6.5,12Z\"/>\n",
              "  </svg>\n",
              "    </button>\n",
              "    <script>\n",
              "      (() => {\n",
              "      const buttonEl =\n",
              "        document.querySelector('#id_8beab69f-d8cf-43fe-8d1c-b98f1ddfe010 button.colab-df-generate');\n",
              "      buttonEl.style.display =\n",
              "        google.colab.kernel.accessAllowed ? 'block' : 'none';\n",
              "\n",
              "      buttonEl.onclick = () => {\n",
              "        google.colab.notebook.generateWithVariable('data');\n",
              "      }\n",
              "      })();\n",
              "    </script>\n",
              "  </div>\n",
              "\n",
              "    </div>\n",
              "  </div>\n"
            ],
            "application/vnd.google.colaboratory.intrinsic+json": {
              "type": "dataframe",
              "variable_name": "data"
            }
          },
          "metadata": {},
          "execution_count": 2
        }
      ]
    },
    {
      "cell_type": "code",
      "source": [
        "data.shape"
      ],
      "metadata": {
        "colab": {
          "base_uri": "https://localhost:8080/"
        },
        "id": "0g1-G5rNFgZj",
        "outputId": "390a7088-b3d2-473e-b80e-c39a5f7f088b"
      },
      "execution_count": null,
      "outputs": [
        {
          "output_type": "execute_result",
          "data": {
            "text/plain": [
              "(3661, 28)"
            ]
          },
          "metadata": {},
          "execution_count": 3
        }
      ]
    },
    {
      "cell_type": "code",
      "source": [
        "data.info()"
      ],
      "metadata": {
        "colab": {
          "base_uri": "https://localhost:8080/"
        },
        "id": "wONkWbXFFjFU",
        "outputId": "f5be1456-e0ba-46c6-ee03-34ed01ac6fc4"
      },
      "execution_count": null,
      "outputs": [
        {
          "output_type": "stream",
          "name": "stdout",
          "text": [
            "<class 'pandas.core.frame.DataFrame'>\n",
            "RangeIndex: 3661 entries, 0 to 3660\n",
            "Data columns (total 28 columns):\n",
            " #   Column                     Non-Null Count  Dtype  \n",
            "---  ------                     --------------  -----  \n",
            " 0   movie_imdb_link            3661 non-null   object \n",
            " 1   color                      3661 non-null   object \n",
            " 2   movie_title                3661 non-null   object \n",
            " 3   language                   3660 non-null   object \n",
            " 4   title_year                 3661 non-null   int64  \n",
            " 5   duration                   3661 non-null   int64  \n",
            " 6   director_name              3661 non-null   object \n",
            " 7   actor_1_name               3661 non-null   object \n",
            " 8   actor_2_name               3661 non-null   object \n",
            " 9   actor_3_name               3661 non-null   object \n",
            " 10  genres                     3661 non-null   object \n",
            " 11  country                    3661 non-null   object \n",
            " 12  budget                     3661 non-null   float64\n",
            " 13  gross                      3661 non-null   float64\n",
            " 14  plot_keywords              3661 non-null   object \n",
            " 15  content_rating             3661 non-null   object \n",
            " 16  aspect_ratio               3661 non-null   float64\n",
            " 17  imdb_score                 3661 non-null   float64\n",
            " 18  num_critic_for_reviews     3661 non-null   int64  \n",
            " 19  num_user_for_reviews       3661 non-null   int64  \n",
            " 20  num_voted_users            3661 non-null   int64  \n",
            " 21  director_facebook_likes    3661 non-null   int64  \n",
            " 22  actor_1_facebook_likes     3661 non-null   int64  \n",
            " 23  actor_2_facebook_likes     3661 non-null   int64  \n",
            " 24  actor_3_facebook_likes     3661 non-null   int64  \n",
            " 25  cast_total_facebook_likes  3661 non-null   int64  \n",
            " 26  movie_facebook_likes       3661 non-null   int64  \n",
            " 27  facenumber_in_poster       3661 non-null   int64  \n",
            "dtypes: float64(4), int64(12), object(12)\n",
            "memory usage: 801.0+ KB\n"
          ]
        }
      ]
    },
    {
      "cell_type": "code",
      "source": [
        "data.duplicated().sum()"
      ],
      "metadata": {
        "colab": {
          "base_uri": "https://localhost:8080/"
        },
        "id": "YVDw6-3-FlDF",
        "outputId": "e61db79b-aa3b-4965-8a78-7df97ca91c7b"
      },
      "execution_count": null,
      "outputs": [
        {
          "output_type": "execute_result",
          "data": {
            "text/plain": [
              "0"
            ]
          },
          "metadata": {},
          "execution_count": 7
        }
      ]
    },
    {
      "cell_type": "code",
      "source": [
        "data.isnull().sum()"
      ],
      "metadata": {
        "colab": {
          "base_uri": "https://localhost:8080/"
        },
        "id": "NMNFSYmaFnCf",
        "outputId": "01f20c79-7e72-4196-9b28-e5c45e33feb8"
      },
      "execution_count": null,
      "outputs": [
        {
          "output_type": "execute_result",
          "data": {
            "text/plain": [
              "movie_imdb_link              0\n",
              "color                        0\n",
              "movie_title                  0\n",
              "language                     1\n",
              "title_year                   0\n",
              "duration                     0\n",
              "director_name                0\n",
              "actor_1_name                 0\n",
              "actor_2_name                 0\n",
              "actor_3_name                 0\n",
              "genres                       0\n",
              "country                      0\n",
              "budget                       0\n",
              "gross                        0\n",
              "plot_keywords                0\n",
              "content_rating               0\n",
              "aspect_ratio                 0\n",
              "imdb_score                   0\n",
              "num_critic_for_reviews       0\n",
              "num_user_for_reviews         0\n",
              "num_voted_users              0\n",
              "director_facebook_likes      0\n",
              "actor_1_facebook_likes       0\n",
              "actor_2_facebook_likes       0\n",
              "actor_3_facebook_likes       0\n",
              "cast_total_facebook_likes    0\n",
              "movie_facebook_likes         0\n",
              "facenumber_in_poster         0\n",
              "dtype: int64"
            ]
          },
          "metadata": {},
          "execution_count": 5
        }
      ]
    },
    {
      "cell_type": "code",
      "source": [
        "data = data.dropna()"
      ],
      "metadata": {
        "id": "LZGgaYnsF_uq"
      },
      "execution_count": null,
      "outputs": []
    },
    {
      "cell_type": "code",
      "source": [
        "data.isnull().sum()"
      ],
      "metadata": {
        "colab": {
          "base_uri": "https://localhost:8080/"
        },
        "id": "lO0JnFf9GEQi",
        "outputId": "58892fa1-91be-43b8-a7ce-795c12043328"
      },
      "execution_count": null,
      "outputs": [
        {
          "output_type": "execute_result",
          "data": {
            "text/plain": [
              "movie_imdb_link              0\n",
              "color                        0\n",
              "movie_title                  0\n",
              "language                     0\n",
              "title_year                   0\n",
              "duration                     0\n",
              "director_name                0\n",
              "actor_1_name                 0\n",
              "actor_2_name                 0\n",
              "actor_3_name                 0\n",
              "genres                       0\n",
              "country                      0\n",
              "budget                       0\n",
              "gross                        0\n",
              "plot_keywords                0\n",
              "content_rating               0\n",
              "aspect_ratio                 0\n",
              "imdb_score                   0\n",
              "num_critic_for_reviews       0\n",
              "num_user_for_reviews         0\n",
              "num_voted_users              0\n",
              "director_facebook_likes      0\n",
              "actor_1_facebook_likes       0\n",
              "actor_2_facebook_likes       0\n",
              "actor_3_facebook_likes       0\n",
              "cast_total_facebook_likes    0\n",
              "movie_facebook_likes         0\n",
              "facenumber_in_poster         0\n",
              "dtype: int64"
            ]
          },
          "metadata": {},
          "execution_count": 14
        }
      ]
    },
    {
      "cell_type": "code",
      "source": [
        "data.head(3)"
      ],
      "metadata": {
        "colab": {
          "base_uri": "https://localhost:8080/",
          "height": 279
        },
        "id": "kiofTSGdFyk9",
        "outputId": "21612e75-3eb3-45a2-9569-fac7c72ce991"
      },
      "execution_count": null,
      "outputs": [
        {
          "output_type": "execute_result",
          "data": {
            "text/plain": [
              "                                     movie_imdb_link  color  \\\n",
              "0  http://www.imdb.com/title/tt0499549/?ref_=fn_t...  Color   \n",
              "1  http://www.imdb.com/title/tt0449088/?ref_=fn_t...  Color   \n",
              "2  http://www.imdb.com/title/tt2379713/?ref_=fn_t...  Color   \n",
              "\n",
              "                                 movie_title language  title_year  duration  \\\n",
              "0                                    Avatar   English        2009       178   \n",
              "1  Pirates of the Caribbean: At World's End   English        2007       169   \n",
              "2                                   Spectre   English        2015       148   \n",
              "\n",
              "    director_name     actor_1_name      actor_2_name      actor_3_name  ...  \\\n",
              "0   James Cameron      CCH Pounder  Joel David Moore         Wes Studi  ...   \n",
              "1  Gore Verbinski      Johnny Depp     Orlando Bloom    Jack Davenport  ...   \n",
              "2      Sam Mendes  Christoph Waltz      Rory Kinnear  Stephanie Sigman  ...   \n",
              "\n",
              "  num_critic_for_reviews num_user_for_reviews  num_voted_users  \\\n",
              "0                    723                 3054           886204   \n",
              "1                    302                 1238           471220   \n",
              "2                    602                  994           275868   \n",
              "\n",
              "   director_facebook_likes actor_1_facebook_likes actor_2_facebook_likes  \\\n",
              "0                        0                   1000                    936   \n",
              "1                      563                  40000                   5000   \n",
              "2                        0                  11000                    393   \n",
              "\n",
              "   actor_3_facebook_likes  cast_total_facebook_likes  movie_facebook_likes  \\\n",
              "0                     855                       4834                 33000   \n",
              "1                    1000                      48350                     0   \n",
              "2                     161                      11700                 85000   \n",
              "\n",
              "   facenumber_in_poster  \n",
              "0                     0  \n",
              "1                     0  \n",
              "2                     1  \n",
              "\n",
              "[3 rows x 28 columns]"
            ],
            "text/html": [
              "\n",
              "  <div id=\"df-8be79b94-e8c2-4977-b9f3-6428a950a7c3\" class=\"colab-df-container\">\n",
              "    <div>\n",
              "<style scoped>\n",
              "    .dataframe tbody tr th:only-of-type {\n",
              "        vertical-align: middle;\n",
              "    }\n",
              "\n",
              "    .dataframe tbody tr th {\n",
              "        vertical-align: top;\n",
              "    }\n",
              "\n",
              "    .dataframe thead th {\n",
              "        text-align: right;\n",
              "    }\n",
              "</style>\n",
              "<table border=\"1\" class=\"dataframe\">\n",
              "  <thead>\n",
              "    <tr style=\"text-align: right;\">\n",
              "      <th></th>\n",
              "      <th>movie_imdb_link</th>\n",
              "      <th>color</th>\n",
              "      <th>movie_title</th>\n",
              "      <th>language</th>\n",
              "      <th>title_year</th>\n",
              "      <th>duration</th>\n",
              "      <th>director_name</th>\n",
              "      <th>actor_1_name</th>\n",
              "      <th>actor_2_name</th>\n",
              "      <th>actor_3_name</th>\n",
              "      <th>...</th>\n",
              "      <th>num_critic_for_reviews</th>\n",
              "      <th>num_user_for_reviews</th>\n",
              "      <th>num_voted_users</th>\n",
              "      <th>director_facebook_likes</th>\n",
              "      <th>actor_1_facebook_likes</th>\n",
              "      <th>actor_2_facebook_likes</th>\n",
              "      <th>actor_3_facebook_likes</th>\n",
              "      <th>cast_total_facebook_likes</th>\n",
              "      <th>movie_facebook_likes</th>\n",
              "      <th>facenumber_in_poster</th>\n",
              "    </tr>\n",
              "  </thead>\n",
              "  <tbody>\n",
              "    <tr>\n",
              "      <th>0</th>\n",
              "      <td>http://www.imdb.com/title/tt0499549/?ref_=fn_t...</td>\n",
              "      <td>Color</td>\n",
              "      <td>Avatar</td>\n",
              "      <td>English</td>\n",
              "      <td>2009</td>\n",
              "      <td>178</td>\n",
              "      <td>James Cameron</td>\n",
              "      <td>CCH Pounder</td>\n",
              "      <td>Joel David Moore</td>\n",
              "      <td>Wes Studi</td>\n",
              "      <td>...</td>\n",
              "      <td>723</td>\n",
              "      <td>3054</td>\n",
              "      <td>886204</td>\n",
              "      <td>0</td>\n",
              "      <td>1000</td>\n",
              "      <td>936</td>\n",
              "      <td>855</td>\n",
              "      <td>4834</td>\n",
              "      <td>33000</td>\n",
              "      <td>0</td>\n",
              "    </tr>\n",
              "    <tr>\n",
              "      <th>1</th>\n",
              "      <td>http://www.imdb.com/title/tt0449088/?ref_=fn_t...</td>\n",
              "      <td>Color</td>\n",
              "      <td>Pirates of the Caribbean: At World's End</td>\n",
              "      <td>English</td>\n",
              "      <td>2007</td>\n",
              "      <td>169</td>\n",
              "      <td>Gore Verbinski</td>\n",
              "      <td>Johnny Depp</td>\n",
              "      <td>Orlando Bloom</td>\n",
              "      <td>Jack Davenport</td>\n",
              "      <td>...</td>\n",
              "      <td>302</td>\n",
              "      <td>1238</td>\n",
              "      <td>471220</td>\n",
              "      <td>563</td>\n",
              "      <td>40000</td>\n",
              "      <td>5000</td>\n",
              "      <td>1000</td>\n",
              "      <td>48350</td>\n",
              "      <td>0</td>\n",
              "      <td>0</td>\n",
              "    </tr>\n",
              "    <tr>\n",
              "      <th>2</th>\n",
              "      <td>http://www.imdb.com/title/tt2379713/?ref_=fn_t...</td>\n",
              "      <td>Color</td>\n",
              "      <td>Spectre</td>\n",
              "      <td>English</td>\n",
              "      <td>2015</td>\n",
              "      <td>148</td>\n",
              "      <td>Sam Mendes</td>\n",
              "      <td>Christoph Waltz</td>\n",
              "      <td>Rory Kinnear</td>\n",
              "      <td>Stephanie Sigman</td>\n",
              "      <td>...</td>\n",
              "      <td>602</td>\n",
              "      <td>994</td>\n",
              "      <td>275868</td>\n",
              "      <td>0</td>\n",
              "      <td>11000</td>\n",
              "      <td>393</td>\n",
              "      <td>161</td>\n",
              "      <td>11700</td>\n",
              "      <td>85000</td>\n",
              "      <td>1</td>\n",
              "    </tr>\n",
              "  </tbody>\n",
              "</table>\n",
              "<p>3 rows × 28 columns</p>\n",
              "</div>\n",
              "    <div class=\"colab-df-buttons\">\n",
              "\n",
              "  <div class=\"colab-df-container\">\n",
              "    <button class=\"colab-df-convert\" onclick=\"convertToInteractive('df-8be79b94-e8c2-4977-b9f3-6428a950a7c3')\"\n",
              "            title=\"Convert this dataframe to an interactive table.\"\n",
              "            style=\"display:none;\">\n",
              "\n",
              "  <svg xmlns=\"http://www.w3.org/2000/svg\" height=\"24px\" viewBox=\"0 -960 960 960\">\n",
              "    <path d=\"M120-120v-720h720v720H120Zm60-500h600v-160H180v160Zm220 220h160v-160H400v160Zm0 220h160v-160H400v160ZM180-400h160v-160H180v160Zm440 0h160v-160H620v160ZM180-180h160v-160H180v160Zm440 0h160v-160H620v160Z\"/>\n",
              "  </svg>\n",
              "    </button>\n",
              "\n",
              "  <style>\n",
              "    .colab-df-container {\n",
              "      display:flex;\n",
              "      gap: 12px;\n",
              "    }\n",
              "\n",
              "    .colab-df-convert {\n",
              "      background-color: #E8F0FE;\n",
              "      border: none;\n",
              "      border-radius: 50%;\n",
              "      cursor: pointer;\n",
              "      display: none;\n",
              "      fill: #1967D2;\n",
              "      height: 32px;\n",
              "      padding: 0 0 0 0;\n",
              "      width: 32px;\n",
              "    }\n",
              "\n",
              "    .colab-df-convert:hover {\n",
              "      background-color: #E2EBFA;\n",
              "      box-shadow: 0px 1px 2px rgba(60, 64, 67, 0.3), 0px 1px 3px 1px rgba(60, 64, 67, 0.15);\n",
              "      fill: #174EA6;\n",
              "    }\n",
              "\n",
              "    .colab-df-buttons div {\n",
              "      margin-bottom: 4px;\n",
              "    }\n",
              "\n",
              "    [theme=dark] .colab-df-convert {\n",
              "      background-color: #3B4455;\n",
              "      fill: #D2E3FC;\n",
              "    }\n",
              "\n",
              "    [theme=dark] .colab-df-convert:hover {\n",
              "      background-color: #434B5C;\n",
              "      box-shadow: 0px 1px 3px 1px rgba(0, 0, 0, 0.15);\n",
              "      filter: drop-shadow(0px 1px 2px rgba(0, 0, 0, 0.3));\n",
              "      fill: #FFFFFF;\n",
              "    }\n",
              "  </style>\n",
              "\n",
              "    <script>\n",
              "      const buttonEl =\n",
              "        document.querySelector('#df-8be79b94-e8c2-4977-b9f3-6428a950a7c3 button.colab-df-convert');\n",
              "      buttonEl.style.display =\n",
              "        google.colab.kernel.accessAllowed ? 'block' : 'none';\n",
              "\n",
              "      async function convertToInteractive(key) {\n",
              "        const element = document.querySelector('#df-8be79b94-e8c2-4977-b9f3-6428a950a7c3');\n",
              "        const dataTable =\n",
              "          await google.colab.kernel.invokeFunction('convertToInteractive',\n",
              "                                                    [key], {});\n",
              "        if (!dataTable) return;\n",
              "\n",
              "        const docLinkHtml = 'Like what you see? Visit the ' +\n",
              "          '<a target=\"_blank\" href=https://colab.research.google.com/notebooks/data_table.ipynb>data table notebook</a>'\n",
              "          + ' to learn more about interactive tables.';\n",
              "        element.innerHTML = '';\n",
              "        dataTable['output_type'] = 'display_data';\n",
              "        await google.colab.output.renderOutput(dataTable, element);\n",
              "        const docLink = document.createElement('div');\n",
              "        docLink.innerHTML = docLinkHtml;\n",
              "        element.appendChild(docLink);\n",
              "      }\n",
              "    </script>\n",
              "  </div>\n",
              "\n",
              "\n",
              "<div id=\"df-e2c753f6-ae34-4cca-84b4-c511be9d58c0\">\n",
              "  <button class=\"colab-df-quickchart\" onclick=\"quickchart('df-e2c753f6-ae34-4cca-84b4-c511be9d58c0')\"\n",
              "            title=\"Suggest charts\"\n",
              "            style=\"display:none;\">\n",
              "\n",
              "<svg xmlns=\"http://www.w3.org/2000/svg\" height=\"24px\"viewBox=\"0 0 24 24\"\n",
              "     width=\"24px\">\n",
              "    <g>\n",
              "        <path d=\"M19 3H5c-1.1 0-2 .9-2 2v14c0 1.1.9 2 2 2h14c1.1 0 2-.9 2-2V5c0-1.1-.9-2-2-2zM9 17H7v-7h2v7zm4 0h-2V7h2v10zm4 0h-2v-4h2v4z\"/>\n",
              "    </g>\n",
              "</svg>\n",
              "  </button>\n",
              "\n",
              "<style>\n",
              "  .colab-df-quickchart {\n",
              "      --bg-color: #E8F0FE;\n",
              "      --fill-color: #1967D2;\n",
              "      --hover-bg-color: #E2EBFA;\n",
              "      --hover-fill-color: #174EA6;\n",
              "      --disabled-fill-color: #AAA;\n",
              "      --disabled-bg-color: #DDD;\n",
              "  }\n",
              "\n",
              "  [theme=dark] .colab-df-quickchart {\n",
              "      --bg-color: #3B4455;\n",
              "      --fill-color: #D2E3FC;\n",
              "      --hover-bg-color: #434B5C;\n",
              "      --hover-fill-color: #FFFFFF;\n",
              "      --disabled-bg-color: #3B4455;\n",
              "      --disabled-fill-color: #666;\n",
              "  }\n",
              "\n",
              "  .colab-df-quickchart {\n",
              "    background-color: var(--bg-color);\n",
              "    border: none;\n",
              "    border-radius: 50%;\n",
              "    cursor: pointer;\n",
              "    display: none;\n",
              "    fill: var(--fill-color);\n",
              "    height: 32px;\n",
              "    padding: 0;\n",
              "    width: 32px;\n",
              "  }\n",
              "\n",
              "  .colab-df-quickchart:hover {\n",
              "    background-color: var(--hover-bg-color);\n",
              "    box-shadow: 0 1px 2px rgba(60, 64, 67, 0.3), 0 1px 3px 1px rgba(60, 64, 67, 0.15);\n",
              "    fill: var(--button-hover-fill-color);\n",
              "  }\n",
              "\n",
              "  .colab-df-quickchart-complete:disabled,\n",
              "  .colab-df-quickchart-complete:disabled:hover {\n",
              "    background-color: var(--disabled-bg-color);\n",
              "    fill: var(--disabled-fill-color);\n",
              "    box-shadow: none;\n",
              "  }\n",
              "\n",
              "  .colab-df-spinner {\n",
              "    border: 2px solid var(--fill-color);\n",
              "    border-color: transparent;\n",
              "    border-bottom-color: var(--fill-color);\n",
              "    animation:\n",
              "      spin 1s steps(1) infinite;\n",
              "  }\n",
              "\n",
              "  @keyframes spin {\n",
              "    0% {\n",
              "      border-color: transparent;\n",
              "      border-bottom-color: var(--fill-color);\n",
              "      border-left-color: var(--fill-color);\n",
              "    }\n",
              "    20% {\n",
              "      border-color: transparent;\n",
              "      border-left-color: var(--fill-color);\n",
              "      border-top-color: var(--fill-color);\n",
              "    }\n",
              "    30% {\n",
              "      border-color: transparent;\n",
              "      border-left-color: var(--fill-color);\n",
              "      border-top-color: var(--fill-color);\n",
              "      border-right-color: var(--fill-color);\n",
              "    }\n",
              "    40% {\n",
              "      border-color: transparent;\n",
              "      border-right-color: var(--fill-color);\n",
              "      border-top-color: var(--fill-color);\n",
              "    }\n",
              "    60% {\n",
              "      border-color: transparent;\n",
              "      border-right-color: var(--fill-color);\n",
              "    }\n",
              "    80% {\n",
              "      border-color: transparent;\n",
              "      border-right-color: var(--fill-color);\n",
              "      border-bottom-color: var(--fill-color);\n",
              "    }\n",
              "    90% {\n",
              "      border-color: transparent;\n",
              "      border-bottom-color: var(--fill-color);\n",
              "    }\n",
              "  }\n",
              "</style>\n",
              "\n",
              "  <script>\n",
              "    async function quickchart(key) {\n",
              "      const quickchartButtonEl =\n",
              "        document.querySelector('#' + key + ' button');\n",
              "      quickchartButtonEl.disabled = true;  // To prevent multiple clicks.\n",
              "      quickchartButtonEl.classList.add('colab-df-spinner');\n",
              "      try {\n",
              "        const charts = await google.colab.kernel.invokeFunction(\n",
              "            'suggestCharts', [key], {});\n",
              "      } catch (error) {\n",
              "        console.error('Error during call to suggestCharts:', error);\n",
              "      }\n",
              "      quickchartButtonEl.classList.remove('colab-df-spinner');\n",
              "      quickchartButtonEl.classList.add('colab-df-quickchart-complete');\n",
              "    }\n",
              "    (() => {\n",
              "      let quickchartButtonEl =\n",
              "        document.querySelector('#df-e2c753f6-ae34-4cca-84b4-c511be9d58c0 button');\n",
              "      quickchartButtonEl.style.display =\n",
              "        google.colab.kernel.accessAllowed ? 'block' : 'none';\n",
              "    })();\n",
              "  </script>\n",
              "</div>\n",
              "\n",
              "    </div>\n",
              "  </div>\n"
            ],
            "application/vnd.google.colaboratory.intrinsic+json": {
              "type": "dataframe",
              "variable_name": "data"
            }
          },
          "metadata": {},
          "execution_count": 8
        }
      ]
    },
    {
      "cell_type": "code",
      "source": [
        "data['color'].nunique()"
      ],
      "metadata": {
        "colab": {
          "base_uri": "https://localhost:8080/"
        },
        "id": "QdYQE185GL6V",
        "outputId": "6b81d4a2-af1b-4220-965f-48104896153d"
      },
      "execution_count": null,
      "outputs": [
        {
          "output_type": "execute_result",
          "data": {
            "text/plain": [
              "2"
            ]
          },
          "metadata": {},
          "execution_count": 15
        }
      ]
    },
    {
      "cell_type": "code",
      "source": [
        "data['language'].nunique()"
      ],
      "metadata": {
        "colab": {
          "base_uri": "https://localhost:8080/"
        },
        "id": "DJGfH-MRGzEK",
        "outputId": "50104d03-6893-499c-f442-436e7deb344e"
      },
      "execution_count": null,
      "outputs": [
        {
          "output_type": "execute_result",
          "data": {
            "text/plain": [
              "33"
            ]
          },
          "metadata": {},
          "execution_count": 16
        }
      ]
    },
    {
      "cell_type": "code",
      "source": [
        "data['title_year'].nunique()"
      ],
      "metadata": {
        "colab": {
          "base_uri": "https://localhost:8080/"
        },
        "id": "zhxFtsSgG5NW",
        "outputId": "34ae9556-4e61-424d-8a47-b4eb549ff1c2"
      },
      "execution_count": null,
      "outputs": [
        {
          "output_type": "execute_result",
          "data": {
            "text/plain": [
              "74"
            ]
          },
          "metadata": {},
          "execution_count": 17
        }
      ]
    },
    {
      "cell_type": "code",
      "source": [
        "data['genres'].nunique()"
      ],
      "metadata": {
        "colab": {
          "base_uri": "https://localhost:8080/"
        },
        "id": "4YZoBfvLHFYp",
        "outputId": "cac53596-fe30-46e5-f6c7-7ee2e7a44286"
      },
      "execution_count": null,
      "outputs": [
        {
          "output_type": "execute_result",
          "data": {
            "text/plain": [
              "745"
            ]
          },
          "metadata": {},
          "execution_count": 18
        }
      ]
    },
    {
      "cell_type": "code",
      "source": [
        "#Convert budget and gross to numeric\n",
        "data['budget'] = pd.to_numeric(data['budget'])#, errors='coerce')\n",
        "data['gross'] = pd.to_numeric(data['gross'])#, errors='coerce')"
      ],
      "metadata": {
        "colab": {
          "base_uri": "https://localhost:8080/"
        },
        "id": "_9-8w0pUHTdE",
        "outputId": "9c96e980-6e9e-4619-a617-b9916215dff9"
      },
      "execution_count": null,
      "outputs": [
        {
          "output_type": "stream",
          "name": "stderr",
          "text": [
            "<ipython-input-20-241651292b2d>:2: SettingWithCopyWarning: \n",
            "A value is trying to be set on a copy of a slice from a DataFrame.\n",
            "Try using .loc[row_indexer,col_indexer] = value instead\n",
            "\n",
            "See the caveats in the documentation: https://pandas.pydata.org/pandas-docs/stable/user_guide/indexing.html#returning-a-view-versus-a-copy\n",
            "  data['budget'] = pd.to_numeric(data['budget'])#, errors='coerce')\n",
            "<ipython-input-20-241651292b2d>:3: SettingWithCopyWarning: \n",
            "A value is trying to be set on a copy of a slice from a DataFrame.\n",
            "Try using .loc[row_indexer,col_indexer] = value instead\n",
            "\n",
            "See the caveats in the documentation: https://pandas.pydata.org/pandas-docs/stable/user_guide/indexing.html#returning-a-view-versus-a-copy\n",
            "  data['gross'] = pd.to_numeric(data['gross'])#, errors='coerce')\n"
          ]
        }
      ]
    },
    {
      "cell_type": "code",
      "source": [
        "import matplotlib.pyplot as plt\n",
        "import seaborn as sns\n",
        "\n",
        "# Descriptive statistics\n",
        "print(data.describe())"
      ],
      "metadata": {
        "colab": {
          "base_uri": "https://localhost:8080/"
        },
        "id": "qeZKWScfIeAG",
        "outputId": "bf1c1807-2cde-4aef-c37c-bc92ff99b700"
      },
      "execution_count": null,
      "outputs": [
        {
          "output_type": "stream",
          "name": "stdout",
          "text": [
            "        title_year     duration        budget         gross  aspect_ratio  \\\n",
            "count  3660.000000  3660.000000  3.660000e+03  3.660000e+03   3660.000000   \n",
            "mean   2002.918306   110.179781  4.579473e+07  5.185568e+07      2.108885   \n",
            "std       9.878914    22.717978  2.287167e+08  6.931908e+07      0.355454   \n",
            "min    1927.000000    37.000000  2.180000e+02  1.620000e+02      1.180000   \n",
            "25%    1999.000000    96.000000  1.000000e+07  7.998260e+06      1.850000   \n",
            "50%    2004.000000   106.000000  2.500000e+07  2.927475e+07      2.350000   \n",
            "75%    2010.000000   120.000000  5.000000e+07  6.648842e+07      2.350000   \n",
            "max    2016.000000   330.000000  1.221550e+10  7.605058e+08     16.000000   \n",
            "\n",
            "        imdb_score  num_critic_for_reviews  num_user_for_reviews  \\\n",
            "count  3660.000000             3660.000000           3660.000000   \n",
            "mean      6.462760              165.025410            331.049180   \n",
            "std       1.057111              122.464334            406.194131   \n",
            "min       1.600000                2.000000              4.000000   \n",
            "25%       5.900000               76.000000            108.000000   \n",
            "50%       6.600000              136.000000            207.000000   \n",
            "75%       7.200000              221.250000            394.000000   \n",
            "max       9.300000              813.000000           5060.000000   \n",
            "\n",
            "       num_voted_users  director_facebook_likes  actor_1_facebook_likes  \\\n",
            "count     3.660000e+03              3660.000000             3660.000000   \n",
            "mean      1.047586e+05               812.403552             7666.325956   \n",
            "std       1.522282e+05              3088.312669            15601.053770   \n",
            "min       9.100000e+01                 0.000000                0.000000   \n",
            "25%       1.912300e+04                11.000000              742.000000   \n",
            "50%       5.300000e+04                61.500000             1000.000000   \n",
            "75%       1.265345e+05               234.000000            12000.000000   \n",
            "max       1.689764e+06             23000.000000           640000.000000   \n",
            "\n",
            "       actor_2_facebook_likes  actor_3_facebook_likes  \\\n",
            "count             3660.000000             3660.000000   \n",
            "mean              1982.018579              754.095902   \n",
            "std               4509.913819             1849.274666   \n",
            "min                  0.000000                0.000000   \n",
            "25%                378.000000              193.750000   \n",
            "50%                680.500000              434.000000   \n",
            "75%                973.000000              689.250000   \n",
            "max             137000.000000            23000.000000   \n",
            "\n",
            "       cast_total_facebook_likes  movie_facebook_likes  facenumber_in_poster  \n",
            "count                3660.000000           3660.000000           3660.000000  \n",
            "mean                11373.541803           9165.035519              1.383607  \n",
            "std                 19104.242989          21493.900151              2.054426  \n",
            "min                     0.000000              0.000000              0.000000  \n",
            "25%                  1884.500000              0.000000              0.000000  \n",
            "50%                  3983.500000            209.000000              1.000000  \n",
            "75%                 16091.000000          11000.000000              2.000000  \n",
            "max                656730.000000         349000.000000             43.000000  \n"
          ]
        }
      ]
    },
    {
      "cell_type": "code",
      "source": [
        "cleaned_data = data.copy()"
      ],
      "metadata": {
        "id": "_TO5JlxlIxI4"
      },
      "execution_count": null,
      "outputs": []
    },
    {
      "cell_type": "code",
      "source": [
        "# Visualize the distribution of IMDb scores\n",
        "sns.histplot(cleaned_data['imdb_score'], kde=True)\n",
        "plt.title('Distribution of IMDb Scores')\n",
        "plt.xlabel('IMDb Score')\n",
        "plt.ylabel('Frequency')\n",
        "plt.show()"
      ],
      "metadata": {
        "colab": {
          "base_uri": "https://localhost:8080/",
          "height": 472
        },
        "id": "b5UKBkrOIrlA",
        "outputId": "c1a6f067-6619-4080-c8c2-128eb6e2fdfc"
      },
      "execution_count": null,
      "outputs": [
        {
          "output_type": "display_data",
          "data": {
            "text/plain": [
              "<Figure size 640x480 with 1 Axes>"
            ],
            "image/png": "[encoded data removed]"
          },
          "metadata": {}
        }
      ]
    },
    {
      "cell_type": "code",
      "source": [
        "# Visualize the relationship between budget and gross\n",
        "sns.scatterplot(x='budget', y='gross', data=cleaned_data)\n",
        "plt.title('Budget vs Gross Revenue')\n",
        "plt.xlabel('Budget')\n",
        "plt.ylabel('Gross Revenue')\n",
        "plt.show()"
      ],
      "metadata": {
        "colab": {
          "base_uri": "https://localhost:8080/",
          "height": 472
        },
        "id": "X4ur3mx7IvKl",
        "outputId": "ac4f2d40-bccc-4ace-f9f8-f4e13f55313a"
      },
      "execution_count": null,
      "outputs": [
        {
          "output_type": "display_data",
          "data": {
            "text/plain": [
              "<Figure size 640x480 with 1 Axes>"
            ],
            "image/png": "[encoded data removed]"
          },
          "metadata": {}
        }
      ]
    },
    {
      "cell_type": "code",
      "source": [
        "cleaned_data.dtypes"
      ],
      "metadata": {
        "colab": {
          "base_uri": "https://localhost:8080/"
        },
        "id": "a1JVUtL3JIrQ",
        "outputId": "1c3fbe85-c762-43b3-d8cb-b8b90ce65077"
      },
      "execution_count": null,
      "outputs": [
        {
          "output_type": "execute_result",
          "data": {
            "text/plain": [
              "movie_imdb_link               object\n",
              "color                         object\n",
              "movie_title                   object\n",
              "language                      object\n",
              "title_year                     int64\n",
              "duration                       int64\n",
              "director_name                 object\n",
              "actor_1_name                  object\n",
              "actor_2_name                  object\n",
              "actor_3_name                  object\n",
              "genres                        object\n",
              "country                       object\n",
              "budget                       float64\n",
              "gross                        float64\n",
              "plot_keywords                 object\n",
              "content_rating                object\n",
              "aspect_ratio                 float64\n",
              "imdb_score                   float64\n",
              "num_critic_for_reviews         int64\n",
              "num_user_for_reviews           int64\n",
              "num_voted_users                int64\n",
              "director_facebook_likes        int64\n",
              "actor_1_facebook_likes         int64\n",
              "actor_2_facebook_likes         int64\n",
              "actor_3_facebook_likes         int64\n",
              "cast_total_facebook_likes      int64\n",
              "movie_facebook_likes           int64\n",
              "facenumber_in_poster           int64\n",
              "dtype: object"
            ]
          },
          "metadata": {},
          "execution_count": 28
        }
      ]
    },
    {
      "cell_type": "code",
      "source": [
        "# Correlation matrix\n",
        "corr_matrix = cleaned_data.corr()\n",
        "sns.heatmap(corr_matrix, annot=True, cmap='coolwarm')\n",
        "plt.title('Correlation Matrix')\n",
        "plt.show()"
      ],
      "metadata": {
        "colab": {
          "base_uri": "https://localhost:8080/",
          "height": 356
        },
        "id": "lo1CUkckJC-U",
        "outputId": "f09e6136-d40e-457b-c98b-a7260903900a"
      },
      "execution_count": null,
      "outputs": [
        {
          "output_type": "error",
          "ename": "ValueError",
          "evalue": "could not convert string to float: 'http://www.imdb.com/title/tt0499549/?ref_=fn_tt_tt_1'",
          "traceback": [
            "\u001b[0;31m---------------------------------------------------------------------------\u001b[0m",
            "\u001b[0;31mValueError\u001b[0m                                Traceback (most recent call last)",
            "\u001b[0;32m<ipython-input-27-0529be54c774>\u001b[0m in \u001b[0;36m<cell line: 2>\u001b[0;34m()\u001b[0m\n\u001b[1;32m      1\u001b[0m \u001b[0;31m# Correlation matrix\u001b[0m\u001b[0;34m\u001b[0m\u001b[0;34m\u001b[0m\u001b[0m\n\u001b[0;32m----> 2\u001b[0;31m \u001b[0mcorr_matrix\u001b[0m \u001b[0;34m=\u001b[0m \u001b[0mcleaned_data\u001b[0m\u001b[0;34m.\u001b[0m\u001b[0mcorr\u001b[0m\u001b[0;34m(\u001b[0m\u001b[0;34m)\u001b[0m\u001b[0;34m\u001b[0m\u001b[0;34m\u001b[0m\u001b[0m\n\u001b[0m\u001b[1;32m      3\u001b[0m \u001b[0msns\u001b[0m\u001b[0;34m.\u001b[0m\u001b[0mheatmap\u001b[0m\u001b[0;34m(\u001b[0m\u001b[0mcorr_matrix\u001b[0m\u001b[0;34m,\u001b[0m \u001b[0mannot\u001b[0m\u001b[0;34m=\u001b[0m\u001b[0;32mTrue\u001b[0m\u001b[0;34m,\u001b[0m \u001b[0mcmap\u001b[0m\u001b[0;34m=\u001b[0m\u001b[0;34m'coolwarm'\u001b[0m\u001b[0;34m)\u001b[0m\u001b[0;34m\u001b[0m\u001b[0;34m\u001b[0m\u001b[0m\n\u001b[1;32m      4\u001b[0m \u001b[0mplt\u001b[0m\u001b[0;34m.\u001b[0m\u001b[0mtitle\u001b[0m\u001b[0;34m(\u001b[0m\u001b[0;34m'Correlation Matrix'\u001b[0m\u001b[0;34m)\u001b[0m\u001b[0;34m\u001b[0m\u001b[0;34m\u001b[0m\u001b[0m\n\u001b[1;32m      5\u001b[0m \u001b[0mplt\u001b[0m\u001b[0;34m.\u001b[0m\u001b[0mshow\u001b[0m\u001b[0;34m(\u001b[0m\u001b[0;34m)\u001b[0m\u001b[0;34m\u001b[0m\u001b[0;34m\u001b[0m\u001b[0m\n",
            "\u001b[0;32m/usr/local/lib/python3.10/dist-packages/pandas/core/frame.py\u001b[0m in \u001b[0;36mcorr\u001b[0;34m(self, method, min_periods, numeric_only)\u001b[0m\n\u001b[1;32m  10052\u001b[0m         \u001b[0mcols\u001b[0m \u001b[0;34m=\u001b[0m \u001b[0mdata\u001b[0m\u001b[0;34m.\u001b[0m\u001b[0mcolumns\u001b[0m\u001b[0;34m\u001b[0m\u001b[0;34m\u001b[0m\u001b[0m\n\u001b[1;32m  10053\u001b[0m         \u001b[0midx\u001b[0m \u001b[0;34m=\u001b[0m \u001b[0mcols\u001b[0m\u001b[0;34m.\u001b[0m\u001b[0mcopy\u001b[0m\u001b[0;34m(\u001b[0m\u001b[0;34m)\u001b[0m\u001b[0;34m\u001b[0m\u001b[0;34m\u001b[0m\u001b[0m\n\u001b[0;32m> 10054\u001b[0;31m         \u001b[0mmat\u001b[0m \u001b[0;34m=\u001b[0m \u001b[0mdata\u001b[0m\u001b[0;34m.\u001b[0m\u001b[0mto_numpy\u001b[0m\u001b[0;34m(\u001b[0m\u001b[0mdtype\u001b[0m\u001b[0;34m=\u001b[0m\u001b[0mfloat\u001b[0m\u001b[0;34m,\u001b[0m \u001b[0mna_value\u001b[0m\u001b[0;34m=\u001b[0m\u001b[0mnp\u001b[0m\u001b[0;34m.\u001b[0m\u001b[0mnan\u001b[0m\u001b[0;34m,\u001b[0m \u001b[0mcopy\u001b[0m\u001b[0;34m=\u001b[0m\u001b[0;32mFalse\u001b[0m\u001b[0;34m)\u001b[0m\u001b[0;34m\u001b[0m\u001b[0;34m\u001b[0m\u001b[0m\n\u001b[0m\u001b[1;32m  10055\u001b[0m \u001b[0;34m\u001b[0m\u001b[0m\n\u001b[1;32m  10056\u001b[0m         \u001b[0;32mif\u001b[0m \u001b[0mmethod\u001b[0m \u001b[0;34m==\u001b[0m \u001b[0;34m\"pearson\"\u001b[0m\u001b[0;34m:\u001b[0m\u001b[0;34m\u001b[0m\u001b[0;34m\u001b[0m\u001b[0m\n",
            "\u001b[0;32m/usr/local/lib/python3.10/dist-packages/pandas/core/frame.py\u001b[0m in \u001b[0;36mto_numpy\u001b[0;34m(self, dtype, copy, na_value)\u001b[0m\n\u001b[1;32m   1836\u001b[0m         \u001b[0;32mif\u001b[0m \u001b[0mdtype\u001b[0m \u001b[0;32mis\u001b[0m \u001b[0;32mnot\u001b[0m \u001b[0;32mNone\u001b[0m\u001b[0;34m:\u001b[0m\u001b[0;34m\u001b[0m\u001b[0;34m\u001b[0m\u001b[0m\n\u001b[1;32m   1837\u001b[0m             \u001b[0mdtype\u001b[0m \u001b[0;34m=\u001b[0m \u001b[0mnp\u001b[0m\u001b[0;34m.\u001b[0m\u001b[0mdtype\u001b[0m\u001b[0;34m(\u001b[0m\u001b[0mdtype\u001b[0m\u001b[0;34m)\u001b[0m\u001b[0;34m\u001b[0m\u001b[0;34m\u001b[0m\u001b[0m\n\u001b[0;32m-> 1838\u001b[0;31m         \u001b[0mresult\u001b[0m \u001b[0;34m=\u001b[0m \u001b[0mself\u001b[0m\u001b[0;34m.\u001b[0m\u001b[0m_mgr\u001b[0m\u001b[0;34m.\u001b[0m\u001b[0mas_array\u001b[0m\u001b[0;34m(\u001b[0m\u001b[0mdtype\u001b[0m\u001b[0;34m=\u001b[0m\u001b[0mdtype\u001b[0m\u001b[0;34m,\u001b[0m \u001b[0mcopy\u001b[0m\u001b[0;34m=\u001b[0m\u001b[0mcopy\u001b[0m\u001b[0;34m,\u001b[0m \u001b[0mna_value\u001b[0m\u001b[0;34m=\u001b[0m\u001b[0mna_value\u001b[0m\u001b[0;34m)\u001b[0m\u001b[0;34m\u001b[0m\u001b[0;34m\u001b[0m\u001b[0m\n\u001b[0m\u001b[1;32m   1839\u001b[0m         \u001b[0;32mif\u001b[0m \u001b[0mresult\u001b[0m\u001b[0;34m.\u001b[0m\u001b[0mdtype\u001b[0m \u001b[0;32mis\u001b[0m \u001b[0;32mnot\u001b[0m \u001b[0mdtype\u001b[0m\u001b[0;34m:\u001b[0m\u001b[0;34m\u001b[0m\u001b[0;34m\u001b[0m\u001b[0m\n\u001b[1;32m   1840\u001b[0m             \u001b[0mresult\u001b[0m \u001b[0;34m=\u001b[0m \u001b[0mnp\u001b[0m\u001b[0;34m.\u001b[0m\u001b[0marray\u001b[0m\u001b[0;34m(\u001b[0m\u001b[0mresult\u001b[0m\u001b[0;34m,\u001b[0m \u001b[0mdtype\u001b[0m\u001b[0;34m=\u001b[0m\u001b[0mdtype\u001b[0m\u001b[0;34m,\u001b[0m \u001b[0mcopy\u001b[0m\u001b[0;34m=\u001b[0m\u001b[0;32mFalse\u001b[0m\u001b[0;34m)\u001b[0m\u001b[0;34m\u001b[0m\u001b[0;34m\u001b[0m\u001b[0m\n",
            "\u001b[0;32m/usr/local/lib/python3.10/dist-packages/pandas/core/internals/managers.py\u001b[0m in \u001b[0;36mas_array\u001b[0;34m(self, dtype, copy, na_value)\u001b[0m\n\u001b[1;32m   1730\u001b[0m                 \u001b[0marr\u001b[0m\u001b[0;34m.\u001b[0m\u001b[0mflags\u001b[0m\u001b[0;34m.\u001b[0m\u001b[0mwriteable\u001b[0m \u001b[0;34m=\u001b[0m \u001b[0;32mFalse\u001b[0m\u001b[0;34m\u001b[0m\u001b[0;34m\u001b[0m\u001b[0m\n\u001b[1;32m   1731\u001b[0m         \u001b[0;32melse\u001b[0m\u001b[0;34m:\u001b[0m\u001b[0;34m\u001b[0m\u001b[0;34m\u001b[0m\u001b[0m\n\u001b[0;32m-> 1732\u001b[0;31m             \u001b[0marr\u001b[0m \u001b[0;34m=\u001b[0m \u001b[0mself\u001b[0m\u001b[0;34m.\u001b[0m\u001b[0m_interleave\u001b[0m\u001b[0;34m(\u001b[0m\u001b[0mdtype\u001b[0m\u001b[0;34m=\u001b[0m\u001b[0mdtype\u001b[0m\u001b[0;34m,\u001b[0m \u001b[0mna_value\u001b[0m\u001b[0;34m=\u001b[0m\u001b[0mna_value\u001b[0m\u001b[0;34m)\u001b[0m\u001b[0;34m\u001b[0m\u001b[0;34m\u001b[0m\u001b[0m\n\u001b[0m\u001b[1;32m   1733\u001b[0m             \u001b[0;31m# The underlying data was copied within _interleave, so no need\u001b[0m\u001b[0;34m\u001b[0m\u001b[0;34m\u001b[0m\u001b[0m\n\u001b[1;32m   1734\u001b[0m             \u001b[0;31m# to further copy if copy=True or setting na_value\u001b[0m\u001b[0;34m\u001b[0m\u001b[0;34m\u001b[0m\u001b[0m\n",
            "\u001b[0;32m/usr/local/lib/python3.10/dist-packages/pandas/core/internals/managers.py\u001b[0m in \u001b[0;36m_interleave\u001b[0;34m(self, dtype, na_value)\u001b[0m\n\u001b[1;32m   1792\u001b[0m             \u001b[0;32melse\u001b[0m\u001b[0;34m:\u001b[0m\u001b[0;34m\u001b[0m\u001b[0;34m\u001b[0m\u001b[0m\n\u001b[1;32m   1793\u001b[0m                 \u001b[0marr\u001b[0m \u001b[0;34m=\u001b[0m \u001b[0mblk\u001b[0m\u001b[0;34m.\u001b[0m\u001b[0mget_values\u001b[0m\u001b[0;34m(\u001b[0m\u001b[0mdtype\u001b[0m\u001b[0;34m)\u001b[0m\u001b[0;34m\u001b[0m\u001b[0;34m\u001b[0m\u001b[0m\n\u001b[0;32m-> 1794\u001b[0;31m             \u001b[0mresult\u001b[0m\u001b[0;34m[\u001b[0m\u001b[0mrl\u001b[0m\u001b[0;34m.\u001b[0m\u001b[0mindexer\u001b[0m\u001b[0;34m]\u001b[0m \u001b[0;34m=\u001b[0m \u001b[0marr\u001b[0m\u001b[0;34m\u001b[0m\u001b[0;34m\u001b[0m\u001b[0m\n\u001b[0m\u001b[1;32m   1795\u001b[0m             \u001b[0mitemmask\u001b[0m\u001b[0;34m[\u001b[0m\u001b[0mrl\u001b[0m\u001b[0;34m.\u001b[0m\u001b[0mindexer\u001b[0m\u001b[0;34m]\u001b[0m \u001b[0;34m=\u001b[0m \u001b[0;36m1\u001b[0m\u001b[0;34m\u001b[0m\u001b[0;34m\u001b[0m\u001b[0m\n\u001b[1;32m   1796\u001b[0m \u001b[0;34m\u001b[0m\u001b[0m\n",
            "\u001b[0;31mValueError\u001b[0m: could not convert string to float: 'http://www.imdb.com/title/tt0499549/?ref_=fn_tt_tt_1'"
          ]
        }
      ]
    },
    {
      "cell_type": "code",
      "source": [
        "# Select relevant numerical columns\n",
        "numerical_data = cleaned_data[['title_year', 'budget', 'gross']]\n",
        "\n",
        "# Correlation matrix\n",
        "corr_matrix = numerical_data.corr()\n",
        "\n",
        "# Print the correlation matrix\n",
        "print(corr_matrix)"
      ],
      "metadata": {
        "colab": {
          "base_uri": "https://localhost:8080/"
        },
        "id": "CajS0kQmJDhc",
        "outputId": "fc6bc744-8f23-4ad7-fbbf-ad339a7954d2"
      },
      "execution_count": null,
      "outputs": [
        {
          "output_type": "stream",
          "name": "stdout",
          "text": [
            "            title_year    budget     gross\n",
            "title_year    1.000000  0.044247  0.047316\n",
            "budget        0.044247  1.000000  0.094295\n",
            "gross         0.047316  0.094295  1.000000\n"
          ]
        }
      ]
    },
    {
      "cell_type": "code",
      "source": [
        "import matplotlib.pyplot as plt\n",
        "import seaborn as sns\n",
        "\n",
        "# Visualize the correlation matrix\n",
        "plt.figure(figsize=(8, 6))\n",
        "sns.heatmap(corr_matrix, annot=True, cmap='coolwarm', fmt='.2f')\n",
        "plt.title('Correlation Matrix: Title Year, Budget, and Gross')\n",
        "plt.show()"
      ],
      "metadata": {
        "colab": {
          "base_uri": "https://localhost:8080/",
          "height": 545
        },
        "id": "yxcK6PHuKeZf",
        "outputId": "d9cedbe9-5115-4c85-c4f3-bacc2dbfbea4"
      },
      "execution_count": null,
      "outputs": [
        {
          "output_type": "display_data",
          "data": {
            "text/plain": [
              "<Figure size 800x600 with 2 Axes>"
            ],
            "image/png": "[encoded data removed]"
          },
          "metadata": {}
        }
      ]
    },
    {
      "cell_type": "code",
      "source": [
        "# Scatter plot of title_year vs. budget\n",
        "sns.scatterplot(x='title_year', y='budget', data=cleaned_data)\n",
        "plt.title('Title Year vs. Budget')\n",
        "plt.xlabel('Title Year')\n",
        "plt.ylabel('Budget')\n",
        "plt.show()\n",
        "\n",
        "# Scatter plot of title_year vs. gross\n",
        "sns.scatterplot(x='title_year', y='gross', data=cleaned_data)\n",
        "plt.title('Title Year vs. Gross')\n",
        "plt.xlabel('Title Year')\n",
        "plt.ylabel('Gross')\n",
        "plt.show()"
      ],
      "metadata": {
        "colab": {
          "base_uri": "https://localhost:8080/",
          "height": 927
        },
        "id": "_KBYJQbYKe3J",
        "outputId": "7a768d31-7e62-4701-9d37-31a2b8b99ecb"
      },
      "execution_count": null,
      "outputs": [
        {
          "output_type": "display_data",
          "data": {
            "text/plain": [
              "<Figure size 640x480 with 1 Axes>"
            ],
            "image/png": "[encoded data removed]"
          },
          "metadata": {}
        },
        {
          "output_type": "display_data",
          "data": {
            "text/plain": [
              "<Figure size 640x480 with 1 Axes>"
            ],
            "image/png": "[encoded data removed]"
          },
          "metadata": {}
        }
      ]
    },
    {
      "cell_type": "code",
      "source": [
        "# Visualize Color against gross\n",
        "sns.scatterplot(x='color', y='gross', data=cleaned_data)\n",
        "plt.title('Color vs. Gross')\n",
        "plt.xlabel('Color')\n",
        "plt.ylabel('Gross')\n",
        "plt.show()"
      ],
      "metadata": {
        "id": "x3Ib7TuoKo9b",
        "colab": {
          "base_uri": "https://localhost:8080/",
          "height": 472
        },
        "outputId": "a8e2c443-8a5b-482c-e6be-cd0dff0a18db"
      },
      "execution_count": null,
      "outputs": [
        {
          "output_type": "display_data",
          "data": {
            "text/plain": [
              "<Figure size 640x480 with 1 Axes>"
            ],
            "image/png": "[encoded data removed]"
          },
          "metadata": {}
        }
      ]
    },
    {
      "cell_type": "code",
      "source": [
        "cleaned_data['profit/loss'] = cleaned_data['gross'] - cleaned_data['budget']"
      ],
      "metadata": {
        "id": "p8wxduTMekeY"
      },
      "execution_count": null,
      "outputs": []
    },
    {
      "cell_type": "code",
      "source": [
        "# Visualize Color against profit/loss\n",
        "sns.scatterplot(x='color', y='profit/loss', data=cleaned_data)\n",
        "plt.title('Color vs. Pofit/Loss')\n",
        "plt.xlabel('Color')\n",
        "plt.ylabel('profit/loss')\n",
        "plt.show()"
      ],
      "metadata": {
        "colab": {
          "base_uri": "https://localhost:8080/",
          "height": 472
        },
        "id": "RSHb3tFMei8C",
        "outputId": "20cd2179-2c08-4f7b-b206-d3e108619d34"
      },
      "execution_count": null,
      "outputs": [
        {
          "output_type": "display_data",
          "data": {
            "text/plain": [
              "<Figure size 640x480 with 1 Axes>"
            ],
            "image/png": "[encoded data removed]"
          },
          "metadata": {}
        }
      ]
    },
    {
      "cell_type": "code",
      "source": [
        "# Visualize language against profit/loss\n",
        "sns.scatterplot(x='language', y='profit/loss', data=cleaned_data)\n",
        "plt.title('language vs. profit/loss')\n",
        "plt.xlabel('langauge')\n",
        "plt.xticks(rotation=90)\n",
        "plt.ylabel('profit/loss')\n",
        "plt.show()"
      ],
      "metadata": {
        "colab": {
          "base_uri": "https://localhost:8080/",
          "height": 540
        },
        "id": "PmvRFysVe-Kw",
        "outputId": "77472b8d-6131-4887-d249-304b40f78dc0"
      },
      "execution_count": null,
      "outputs": [
        {
          "output_type": "display_data",
          "data": {
            "text/plain": [
              "<Figure size 640x480 with 1 Axes>"
            ],
            "image/png": "[encoded data removed]"
          },
          "metadata": {}
        }
      ]
    },
    {
      "cell_type": "code",
      "source": [],
      "metadata": {
        "id": "JVGOh8ndpTRN"
      },
      "execution_count": null,
      "outputs": []
    }
  ]
}